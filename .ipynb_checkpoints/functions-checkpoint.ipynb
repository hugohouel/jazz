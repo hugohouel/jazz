{
 "cells": [
  {
   "cell_type": "code",
   "execution_count": 37,
   "metadata": {},
   "outputs": [],
   "source": [
    "from constants import *\n",
    "\n",
    "def compute_names(tons):\n",
    "    triadesMin = [e + '-' for e in tons]\n",
    "    accordsMin7 = [e + '7' for e in triadesMin]\n",
    "    accords7 = [e + '7' for e in tons]\n",
    "    accordsMaj7 = [e + 'Maj7' for e in tons]\n",
    "    return {'triadesMaj' : tons, 'triadesMin' : triadesMin, 'accordsMin7' : accordsMin7, 'accords7' : accords7, 'accordsMaj7' : accordsMaj7}"
   ]
  },
  {
   "cell_type": "code",
   "execution_count": null,
   "metadata": {},
   "outputs": [],
   "source": []
  },
  {
   "cell_type": "code",
   "execution_count": 38,
   "metadata": {},
   "outputs": [
    {
     "data": {
      "text/plain": [
       "{'triadesMaj': ['C',\n",
       "  'F',\n",
       "  'Bb',\n",
       "  'Eb',\n",
       "  'Ab',\n",
       "  'Db',\n",
       "  'F#',\n",
       "  'B',\n",
       "  'E',\n",
       "  'A',\n",
       "  'D',\n",
       "  'G'],\n",
       " 'triadesMin': ['C-',\n",
       "  'F-',\n",
       "  'Bb-',\n",
       "  'Eb-',\n",
       "  'Ab-',\n",
       "  'Db-',\n",
       "  'F#-',\n",
       "  'B-',\n",
       "  'E-',\n",
       "  'A-',\n",
       "  'D-',\n",
       "  'G-'],\n",
       " 'accordsMin7': ['C-7',\n",
       "  'F-7',\n",
       "  'Bb-7',\n",
       "  'Eb-7',\n",
       "  'Ab-7',\n",
       "  'Db-7',\n",
       "  'F#-7',\n",
       "  'B-7',\n",
       "  'E-7',\n",
       "  'A-7',\n",
       "  'D-7',\n",
       "  'G-7'],\n",
       " 'accords7': ['C7',\n",
       "  'F7',\n",
       "  'Bb7',\n",
       "  'Eb7',\n",
       "  'Ab7',\n",
       "  'Db7',\n",
       "  'F#7',\n",
       "  'B7',\n",
       "  'E7',\n",
       "  'A7',\n",
       "  'D7',\n",
       "  'G7'],\n",
       " 'accordsMaj7': ['CMaj7',\n",
       "  'FMaj7',\n",
       "  'BbMaj7',\n",
       "  'EbMaj7',\n",
       "  'AbMaj7',\n",
       "  'DbMaj7',\n",
       "  'F#Maj7',\n",
       "  'BMaj7',\n",
       "  'EMaj7',\n",
       "  'AMaj7',\n",
       "  'DMaj7',\n",
       "  'GMaj7']}"
      ]
     },
     "execution_count": 38,
     "metadata": {},
     "output_type": "execute_result"
    }
   ],
   "source": [
    "compute_names(tons)"
   ]
  },
  {
   "cell_type": "code",
   "execution_count": null,
   "metadata": {},
   "outputs": [],
   "source": []
  }
 ],
 "metadata": {
  "kernelspec": {
   "display_name": "Python 3",
   "language": "python",
   "name": "python3"
  },
  "language_info": {
   "codemirror_mode": {
    "name": "ipython",
    "version": 3
   },
   "file_extension": ".py",
   "mimetype": "text/x-python",
   "name": "python",
   "nbconvert_exporter": "python",
   "pygments_lexer": "ipython3",
   "version": "3.7.0"
  }
 },
 "nbformat": 4,
 "nbformat_minor": 2
}
